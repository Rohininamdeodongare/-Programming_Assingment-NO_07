{
 "cells": [
  {
   "cell_type": "code",
   "execution_count": null,
   "id": "0ec90b15",
   "metadata": {},
   "outputs": [],
   "source": [
    "      Programming_Assingment NO_07"
   ]
  },
  {
   "cell_type": "code",
   "execution_count": 3,
   "id": "4f87a6f4",
   "metadata": {},
   "outputs": [
    {
     "name": "stdout",
     "output_type": "stream",
     "text": [
      "Enter the Array: [1,2,3,4,5]\n",
      "The sum of [1, 2, 3, 4, 5] is 15\n"
     ]
    }
   ],
   "source": [
    "Q1. Write a Python Program to find sum of Array ?\n",
    "Answer:-\n",
    "def sumOfArray():\n",
    "    in_arr = eval(input(\"Enter the Array: \"))\n",
    "    print(f'The sum of {in_arr} is {sum(in_arr)}')\n",
    "\n",
    "sumOfArray()"
   ]
  },
  {
   "cell_type": "code",
   "execution_count": 4,
   "id": "3b93effb",
   "metadata": {},
   "outputs": [
    {
     "name": "stdout",
     "output_type": "stream",
     "text": [
      "Enter the Array: [1,2,3,4,5]\n",
      "The Largest Element in [1, 2, 3, 4, 5] is 5\n"
     ]
    }
   ],
   "source": [
    "2. Write a Python Program to find Largest element in an Array ?\n",
    "Answer:-\n",
    "def largestElement():\n",
    "    in_arr = eval(input(\"Enter the Array: \"))\n",
    "    print(f\"The Largest Element in {in_arr} is {sorted(in_arr,reverse=True)[0]}\")\n",
    "largestElement()    "
   ]
  },
  {
   "cell_type": "code",
   "execution_count": 5,
   "id": "ed685686",
   "metadata": {},
   "outputs": [
    {
     "name": "stdout",
     "output_type": "stream",
     "text": [
      "Enter the Array:[12,34,56,74,32,14,5,4,34,65,39]\n",
      "The Reversr of Array [12, 34, 56, 74, 32, 14, 5, 4, 34, 65, 39] is [39, 65, 34, 4, 5, 14, 32, 74, 56, 34, 12]\n"
     ]
    }
   ],
   "source": [
    "Q3. Write a Python Program for array rotation ?\n",
    "Answer:-\n",
    "def reverseOfArray():\n",
    "    in_arr = eval(input(\"Enter the Array:\"))\n",
    "    print(f\"The Reversr of Array {in_arr} is {in_arr[::-1]}\")\n",
    "    \n",
    "reverseOfArray()"
   ]
  },
  {
   "cell_type": "code",
   "execution_count": 1,
   "id": "e9084a6a",
   "metadata": {
    "scrolled": false
   },
   "outputs": [
    {
     "name": "stdout",
     "output_type": "stream",
     "text": [
      "Enter the Array: [10,13,14,9,18]\n",
      "The Sum of First and Last Elements of Array [10, 13, 14, 9, 18] is 28\n"
     ]
    }
   ],
   "source": [
    "4. Write a Python Program to Split the array and add the first part to the end ?\n",
    "Answer:-\n",
    "def sumOfSplits():\n",
    "    in_arr = eval(input(\"Enter the Array: \"))\n",
    "    print(f\"The Sum of First and Last Elements of Array {in_arr} is {in_arr[0]+in_arr[-1]}\")\n",
    "    \n",
    "sumOfSplits()                "
   ]
  },
  {
   "cell_type": "code",
   "execution_count": 1,
   "id": "46367793",
   "metadata": {},
   "outputs": [
    {
     "name": "stdout",
     "output_type": "stream",
     "text": [
      "Enter the Array:[1,2,3,4,5]\n",
      "Array [1, 2, 3, 4, 5] is Monotonic\n",
      "Enter the Array:1,2,3,4,5,6,7\n",
      "Array (1, 2, 3, 4, 5, 6, 7) is Monotonic\n"
     ]
    }
   ],
   "source": [
    "Q5. Write a Python Program to check if given array is Monotonic ?\n",
    "Answer:-\n",
    "def checkMonotonic():\n",
    "    in_arr = eval(input('Enter the Array:'))\n",
    "    if(all(in_arr[i]<=in_arr[i+1] for i in range(len(in_arr)-1)) or all(in_arr[i]>=in_arr[i+1] for i in range(len(in_arr)-1))):\n",
    "        print(f'Array {in_arr} is Monotonic')\n",
    "    else:\n",
    "        print(f'Array{in_arr} is Not Monotonic')\n",
    "    \n",
    "checkMonotonic()\n",
    "checkMonotonic()              \n",
    "        "
   ]
  },
  {
   "cell_type": "code",
   "execution_count": null,
   "id": "d7331fb0",
   "metadata": {},
   "outputs": [],
   "source": []
  },
  {
   "cell_type": "code",
   "execution_count": null,
   "id": "1b235a40",
   "metadata": {},
   "outputs": [],
   "source": []
  }
 ],
 "metadata": {
  "kernelspec": {
   "display_name": "Python 3 (ipykernel)",
   "language": "python",
   "name": "python3"
  },
  "language_info": {
   "codemirror_mode": {
    "name": "ipython",
    "version": 3
   },
   "file_extension": ".py",
   "mimetype": "text/x-python",
   "name": "python",
   "nbconvert_exporter": "python",
   "pygments_lexer": "ipython3",
   "version": "3.9.12"
  }
 },
 "nbformat": 4,
 "nbformat_minor": 5
}
